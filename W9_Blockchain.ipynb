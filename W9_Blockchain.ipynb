{
  "nbformat": 4,
  "nbformat_minor": 5,
  "metadata": {
    "kernelspec": {
      "display_name": "Python 3",
      "language": "python",
      "name": "python3"
    },
    "language_info": {
      "codemirror_mode": {
        "name": "ipython",
        "version": 3
      },
      "file_extension": ".py",
      "mimetype": "text/x-python",
      "name": "python",
      "nbconvert_exporter": "python",
      "pygments_lexer": "ipython3",
      "version": "3.8.8"
    },
    "colab": {
      "name": "W9_Blockchain.ipynb",
      "provenance": [],
      "include_colab_link": true
    }
  },
  "cells": [
    {
      "cell_type": "markdown",
      "metadata": {
        "id": "view-in-github",
        "colab_type": "text"
      },
      "source": [
        "<a href=\"https://colab.research.google.com/github/maryamalzahrani/-W9-Blockchain-in-Python/blob/main/W9_Blockchain.ipynb\" target=\"_parent\"><img src=\"https://colab.research.google.com/assets/colab-badge.svg\" alt=\"Open In Colab\"/></a>"
      ]
    },
    {
      "cell_type": "code",
      "metadata": {
        "id": "e7a4a1fd-8116-433d-8a6d-450baf55a2a5"
      },
      "source": [
        "import json\n",
        "import hashlib\n",
        "import datetime\n",
        "from hashlib import sha256\n",
        "\n",
        "tx_1 = {\n",
        "   \"addr_from\": \"3J98t1WpEZ73CNmQviecrnyiWrnqRhWNLy\",\n",
        "   \"addr_to\": \"1BvBMSEYstWetqTFn5Au4m4GFg7xJaNVN2\",   \n",
        "   \"amount\": 99.00\n",
        "}"
      ],
      "id": "e7a4a1fd-8116-433d-8a6d-450baf55a2a5",
      "execution_count": 2,
      "outputs": []
    },
    {
      "cell_type": "code",
      "metadata": {
        "id": "e1046f94-d9c2-42f6-ae00-439fea771d93"
      },
      "source": [
        "class Block:\n",
        "    def __init__(self,\n",
        "                 index:int =0,\n",
        "                 transactions:list = [],\n",
        "                 timestamp:int = 0,\n",
        "                 cur_hash:str = \"\",\n",
        "                 previous_hash:str =\"\",\n",
        "                 nonce:int =0):\n",
        "        self.index:int = index\n",
        "        self.transactions:list = transactions\n",
        "        self.timestamp:float = timestamp\n",
        "        self.hash:str = cur_hash\n",
        "        self.previous_hash:str = previous_hash\n",
        "        self.nonce:int = nonce\n",
        "    \n",
        "    def compute_hash(self) -> str:\n",
        "        block_string = json.dumps(self.__dict__, sort_keys=True)\n",
        "        print(block_string)\n",
        "        return hashlib.sha256(block_string.encode()).hexdigest()"
      ],
      "id": "e1046f94-d9c2-42f6-ae00-439fea771d93",
      "execution_count": 9,
      "outputs": []
    },
    {
      "cell_type": "code",
      "metadata": {
        "id": "303b1dc0-6cb0-4712-b1f0-5a81063f2586"
      },
      "source": [
        "import time\n",
        "class Blockchain: \n",
        "    def __init__(self):\n",
        "        self.unconfirmed_transactions:list[dict] = []\n",
        "        self.chain:list[Block] = []\n",
        "        self.difficulty:int = 2\n",
        "        self.create_genesis_block()\n",
        "\n",
        "    def get_last_blick(self):\n",
        "          return self.chain[-1]\n",
        " \n",
        "    def create_genesis_block(self):\n",
        "        genesis_block = Block(index=0, transactions=[], timestamp=time.time(), previous_hash=\"0\")\n",
        "        genesis_block.hash = genesis_block.compute_hash()\n",
        "        self.chain.append(genesis_block)\n",
        "\n",
        "        def mine(self) -> int:\n",
        "          if len(self.unconfirmed_transactions)<1:\n",
        "            return -1\n",
        "            \n",
        "          last_block = self.get_last_block()\n",
        "          self.unconfirmed_transactions.append(tx_1)\n",
        "\n",
        "          new_block = block(index=last_block.index+1,\n",
        "                           transaction=self.unconfirmed_transactions,\n",
        "                           timestamp=int(time.eime()),\n",
        "                           previous_hash=last_block.hash)\n",
        "          \n",
        "\n",
        "          cur_hash = self.proof_of_work(new_block)\n",
        "          new_block.hash = cur_hash\n",
        "          \n",
        "    @property\n",
        "    def last_block(self):\n",
        "        return self.chain[-1]"
      ],
      "id": "303b1dc0-6cb0-4712-b1f0-5a81063f2586",
      "execution_count": 20,
      "outputs": []
    },
    {
      "cell_type": "code",
      "source": [
        "b = Block()\n",
        "b.compute_hash()"
      ],
      "metadata": {
        "id": "SX0zfsWRlyXt",
        "outputId": "3b535d55-6e39-48d2-bea5-137094bce404",
        "colab": {
          "base_uri": "https://localhost:8080/",
          "height": 53
        }
      },
      "id": "SX0zfsWRlyXt",
      "execution_count": 22,
      "outputs": [
        {
          "output_type": "stream",
          "name": "stdout",
          "text": [
            "{\"hash\": \"\", \"index\": 0, \"nonce\": 0, \"previous_hash\": \"\", \"timestamp\": 0, \"transactions\": []}\n"
          ]
        },
        {
          "output_type": "execute_result",
          "data": {
            "application/vnd.google.colaboratory.intrinsic+json": {
              "type": "string"
            },
            "text/plain": [
              "'0267061eb16c636898bb6afeefc4959a18d5210d0415e315d29f2db21d048782'"
            ]
          },
          "metadata": {},
          "execution_count": 22
        }
      ]
    },
    {
      "cell_type": "code",
      "source": [
        "\n",
        "b.compute_hash().startswith('0'*1)"
      ],
      "metadata": {
        "id": "tf0nmdHAqjBe",
        "outputId": "74765bbb-4b41-41c1-a75c-faf64bb3304d",
        "colab": {
          "base_uri": "https://localhost:8080/"
        }
      },
      "id": "tf0nmdHAqjBe",
      "execution_count": 26,
      "outputs": [
        {
          "output_type": "stream",
          "name": "stdout",
          "text": [
            "{\"hash\": \"\", \"index\": 0, \"nonce\": 0, \"previous_hash\": \"\", \"timestamp\": 0, \"transactions\": []}\n"
          ]
        },
        {
          "output_type": "execute_result",
          "data": {
            "text/plain": [
              "True"
            ]
          },
          "metadata": {},
          "execution_count": 26
        }
      ]
    },
    {
      "cell_type": "code",
      "metadata": {
        "id": "a091de76-c56b-4977-8a73-bfd71043f13f"
      },
      "source": [
        "difficulty = 2\n",
        "\n",
        "         # todo define proof_of_work(self, block:Block) -> str, \n",
        "      # hint consider something similar to:\n",
        "      # computed_hash = how do we get the hash from a Block object?\n",
        "      # while not computed_hash.startswith('0' * self.difficulty):\n",
        "      #         block.nonce += 1\n",
        "      #         computed_hash = block.compute_hash()\n",
        "      # Don't forget to return the hash. \n",
        "\n",
        "\n",
        "def proof_of_work(self, block:Block) ->str:\n",
        "        block.nonce = 0\n",
        "        computed_hash = block.compute_hash()\n",
        "        while not computed_hash.startswith('0' * self.difficulty):\n",
        "            block.nonce += 1\n",
        "            computed_hash = block.compute_hash()\n",
        "        return computed_hash"
      ],
      "id": "a091de76-c56b-4977-8a73-bfd71043f13f",
      "execution_count": 39,
      "outputs": []
    },
    {
      "cell_type": "code",
      "metadata": {
        "id": "0de35869-6012-43e8-a1e1-a7a67bdcdb05"
      },
      "source": [
        "def is_valid_proof(self, block:Block, block_hash:str) -> bool:\n",
        "        return (block_hash.startswith('0' * self.difficulty) and\n",
        "                block_hash == block.compute_hash())\n"
      ],
      "id": "0de35869-6012-43e8-a1e1-a7a67bdcdb05",
      "execution_count": 37,
      "outputs": []
    },
    {
      "cell_type": "code",
      "source": [
        "bc = Blockchain()\n"
      ],
      "metadata": {
        "id": "ogGIeP91uoHO",
        "outputId": "a6c7fbda-633e-4be9-e83b-c615beac255c",
        "colab": {
          "base_uri": "https://localhost:8080/"
        }
      },
      "id": "ogGIeP91uoHO",
      "execution_count": 35,
      "outputs": [
        {
          "output_type": "stream",
          "name": "stdout",
          "text": [
            "{\"hash\": \"\", \"index\": 0, \"nonce\": 0, \"previous_hash\": \"0\", \"timestamp\": 1639247002.8575985, \"transactions\": []}\n"
          ]
        }
      ]
    },
    {
      "cell_type": "code",
      "source": [
        "bc.get_last_blick().__dict__"
      ],
      "metadata": {
        "id": "drSkmH3JvZNO",
        "outputId": "a6495546-ddce-486e-d9b5-6dc573de50d8",
        "colab": {
          "base_uri": "https://localhost:8080/"
        }
      },
      "id": "drSkmH3JvZNO",
      "execution_count": 36,
      "outputs": [
        {
          "output_type": "execute_result",
          "data": {
            "text/plain": [
              "{'hash': 'aff2f7b2ff84e4f2e90cc0f10b44ab8b401f30aca376a22a9a2e7cedc3bf1eae',\n",
              " 'index': 0,\n",
              " 'nonce': 0,\n",
              " 'previous_hash': '0',\n",
              " 'timestamp': 1639247002.8575985,\n",
              " 'transactions': []}"
            ]
          },
          "metadata": {},
          "execution_count": 36
        }
      ]
    },
    {
      "cell_type": "code",
      "metadata": {
        "id": "887968e6-c717-492e-862d-39c5a5138264"
      },
      "source": [
        "def add_block(self, block:Block, proof:str) ->bool:\n",
        "        previous_hash = self.last_block.hash\n",
        "        if last_block.current_hash != block.previous_hash:\n",
        "            return False\n",
        "        if not self.is_valid_proof(block, proof):\n",
        "            return False\n",
        "        block.hash = proof\n",
        "        self.chain.append(block)\n",
        "        return True"
      ],
      "id": "887968e6-c717-492e-862d-39c5a5138264",
      "execution_count": 31,
      "outputs": []
    },
    {
      "cell_type": "code",
      "metadata": {
        "id": "a04a2c35-cd31-4fc2-97be-f33f9877981a"
      },
      "source": [
        "def add_new_transaction(self, transaction):\n",
        "            self.unconfirmed_transactions.append(transaction)"
      ],
      "id": "a04a2c35-cd31-4fc2-97be-f33f9877981a",
      "execution_count": 40,
      "outputs": []
    },
    {
      "cell_type": "code",
      "metadata": {
        "id": "1db8479a-370e-47ae-b9ea-c50619a85bee"
      },
      "source": [
        "def mine(self):\n",
        "        if not self.unconfirmed_transactions:\n",
        "            return False\n",
        " \n",
        "        last_block = self.last_block\n",
        " \n",
        "        new_block = Block(index=last_block.index + 1,\n",
        "                          transactions=self.unconfirmed_transactions,\n",
        "                          timestamp=time.time(),\n",
        "                          previous_hash=last_block.hash)\n",
        " \n",
        "        proof = self.proof_of_work(new_block)\n",
        "        self.add_block(new_block, proof)\n",
        "        self.unconfirmed_transactions = []\n",
        "        return new_block.index"
      ],
      "id": "1db8479a-370e-47ae-b9ea-c50619a85bee",
      "execution_count": 41,
      "outputs": []
    }
  ]
}